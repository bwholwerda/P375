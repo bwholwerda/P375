{
 "cells": [
  {
   "cell_type": "markdown",
   "id": "8505455a",
   "metadata": {},
   "source": [
    "# Assignment 8 - Monte Carlo\n",
    "\n",
    "\n",
    "## Authors\n",
    "B.W. Holwerda\n",
    "\n",
    "## Learning Goals\n",
    "* What is Monte Carlo?\n",
    "* How to use Monte Carlo techniques\n",
    "* Using the numpy random module\n",
    "\n",
    "## Keywords\n",
    "python, syntax, jupyter notebook, matplotlib, numpy random, monte carlo\n",
    "\n",
    "## Companion Content\n",
    "\n",
    "## Summary\n",
    "\n",
    "This is an introduction to the Monte Carlo technique based on the first example in the lab here: https://openbooks.library.umass.edu/p132-lab-manual/chapter/introduction-to-mc/\n",
    "With some of the bugs fixed and translated into an original jupyter notebook. \n",
    "\n",
    "<hr>"
   ]
  },
  {
   "cell_type": "markdown",
   "id": "342dd2c3",
   "metadata": {},
   "source": [
    "## Student Name and ID:\n",
    "\n",
    "\n",
    "\n",
    "## Date:\n",
    "\n",
    "<hr>"
   ]
  },
  {
   "cell_type": "markdown",
   "id": "cccbb694",
   "metadata": {},
   "source": [
    "# Monte Carlo\n",
    "\n",
    "There are some problems in science that are so complicated that they just can’t be analyzed by formulas that you can write down on a piece of paper. This is particularly true in biology and health sciences because the problems are so complex. One example is the folding and shape of proteins.  This is famously a very difficult problem. How do you solve such problems? Well, one technique is to use probability, random numbers, and computation. These methods are known as Monte Carlo methods.  They are named after the town of Monte Carlo in the country of Monaco, which is a tiny little country on the coast of France which is famous for its casinos, hence the name. These methods rely on computers to simulate the results and these were first really used in the Manhattan project in a serious way. Now, however, they are used in all fields: understand systems like:\n",
    "\n",
    "Understanding systems: cost overruns or time overruns.\n",
    "Finance: predicting if a commodity price is going to go up or down.\n",
    "Resource exploration: oil and other minerals\n",
    "\n",
    "All of these different fields use Monte Carlo methods to gain a deeper understanding of complex problems."
   ]
  },
  {
   "cell_type": "markdown",
   "id": "ac0a4c29",
   "metadata": {},
   "source": [
    "# Calculating $\\pi$\n",
    "\n",
    "We can calculate $\\pi$ in all sorts of manner analytically but this serves as a useful example of the Monte Carlo technique.\n",
    "\n",
    "Consider a square that’s length ($s$) on a side. Call the horizontal direction x and the vertical direction y.\n",
    "\n",
    "Inside the square, let’s put a circle with a radius ($r$) of half the length/height of the square.\n",
    "\n",
    "The ratio of the area of the circle over the area of the square is:\n",
    "\n",
    "$$ {A_{circle}\\over A_{square}} = {\\pi r^2\\over s^2} = {\\pi (0.2)^2 \\over (1)^2} = {\\pi \\over 4}$$\n",
    "\n",
    "Hey! the ratios of the areas is ${\\pi/4}$! \n",
    "\n",
    "Now, if we pick a random x and y value each between 0 and 1, this point will be in the square and may be in the circle. We can check if a randomly selected point in the square is also within the circle by\n",
    "\n",
    "$$ \\sqrt{(x-0.5)^2 + (y-0.5)^2} < 0.5. $$\n",
    "\n",
    "If that is the case, then the random point is inside the circle. \n",
    "\n",
    "The number of points that fall in the circle is an indication of the area of the circle ($A_{circle}$). All the points are in the square by design. So the *ratio* of points in the circle over the points picked is an estimate of $\\pi/4$!\n",
    "\n",
    "Say we pick two points and one is in the circle, our estimate for $\\pi = 4 \\times {1 \\over 2} = 2$! \n",
    "\n",
    "We need more points for better accuracy.\n",
    "\n"
   ]
  },
  {
   "cell_type": "markdown",
   "id": "2a9197f7",
   "metadata": {},
   "source": [
    "### Exercise 1 -- Code \n",
    "\n",
    "Write a function with variable N, the number of points chosen that will produce a more accurate estimate of $\\pi$. \n",
    "\n",
    "HINT: numpy's random module has the option to randomly assign values between 0 and 1"
   ]
  },
  {
   "cell_type": "code",
   "execution_count": 1,
   "id": "4478a9e5",
   "metadata": {},
   "outputs": [],
   "source": [
    "import matplotlib.pyplot as plt\n",
    "import numpy as np\n",
    "\n",
    "from matplotlib import rcParams\n",
    "rcParams[\"savefig.dpi\"] = 150\n",
    "rcParams[\"figure.dpi\"] = 150\n",
    "rcParams[\"font.size\"] = 15\n",
    "\n",
    "# student work here\n",
    "\n"
   ]
  },
  {
   "cell_type": "markdown",
   "id": "ba748fa0",
   "metadata": {},
   "source": [
    "### Exercise 2 -- Visualize \n",
    "\n",
    "Write a function with variable N, the number of points chosen that will produce a more accurate estimate of $\\pi$. Plot the x and y positions of each point and color-code them if they are within or outside the circle."
   ]
  },
  {
   "cell_type": "code",
   "execution_count": 2,
   "id": "55e31ea8",
   "metadata": {},
   "outputs": [],
   "source": [
    "# student work here\n"
   ]
  },
  {
   "cell_type": "markdown",
   "id": "fa09a925",
   "metadata": {},
   "source": [
    "### Exercise 3 -- Visualize \n",
    "\n",
    "Evaluating the above functon for N=10000, what do you notice? "
   ]
  },
  {
   "cell_type": "markdown",
   "id": "fc452dd8",
   "metadata": {},
   "source": [
    "*student written answer here*"
   ]
  },
  {
   "cell_type": "markdown",
   "id": "0975ffab",
   "metadata": {},
   "source": [
    "### Exercise 4 -- Visualize \n",
    "\n",
    "Plot the value for $\\pi$ as a function of the number of iterations. \n",
    "\n",
    "over-plot the numpy value of $\\p$"
   ]
  },
  {
   "cell_type": "code",
   "execution_count": 3,
   "id": "803fcb20",
   "metadata": {},
   "outputs": [],
   "source": [
    "# student work here\n"
   ]
  },
  {
   "cell_type": "markdown",
   "id": "5c1c541d",
   "metadata": {},
   "source": [
    "### Exercise 5 -- Visualize \n",
    "\n",
    "In your plot of iterations and value of $\\pi$, what is the limit to the accuracy?\n",
    "\n",
    "Express this limit in precentages. Perhaps it's easiers to redo the above plot but as a percentage of the value of $\\pi$. "
   ]
  },
  {
   "cell_type": "code",
   "execution_count": 4,
   "id": "27e6eefa",
   "metadata": {},
   "outputs": [],
   "source": [
    "# student work here\n",
    "\n"
   ]
  },
  {
   "cell_type": "markdown",
   "id": "5f064d23",
   "metadata": {},
   "source": [
    "### Exercise 6 -- Precision\n",
    "\n",
    "How does this precision compare to the precision of floats? Why will it not get much better after a certain point? "
   ]
  },
  {
   "cell_type": "markdown",
   "id": "3ae66faa",
   "metadata": {},
   "source": [
    "*student answer here*"
   ]
  },
  {
   "cell_type": "markdown",
   "id": "75017e65",
   "metadata": {},
   "source": [
    "### Exercise 7 -- Simplifying\n",
    "\n",
    "Redo the plot and calculation MC function but for a 1/4 of the circle, not a full circle. "
   ]
  },
  {
   "cell_type": "code",
   "execution_count": 5,
   "id": "931bc920",
   "metadata": {},
   "outputs": [],
   "source": [
    "# student work here\n"
   ]
  },
  {
   "cell_type": "markdown",
   "id": "b34732de",
   "metadata": {},
   "source": [
    "### Exercise 8 -- Simplifying\n",
    "\n",
    "Based on everything you did so far, why would the 1/4 circle be computationally simpeler or less expensive? Why would it be more accurate?"
   ]
  },
  {
   "cell_type": "markdown",
   "id": "2609b6bf",
   "metadata": {},
   "source": [
    "*student answer here*"
   ]
  },
  {
   "cell_type": "markdown",
   "id": "8d4e490b",
   "metadata": {},
   "source": [
    "### Exercise 9 -- Simplifying\n",
    "\n",
    "Redo the percentage of accuracy as a function of number of MC iterations for the quarter circle plot."
   ]
  },
  {
   "cell_type": "code",
   "execution_count": 6,
   "id": "f4096bb5",
   "metadata": {},
   "outputs": [],
   "source": [
    "# student work here\n"
   ]
  },
  {
   "cell_type": "markdown",
   "id": "848fbbcb",
   "metadata": {},
   "source": [
    "### Exercise 10 BONUS -- Simplifying\n",
    "\n",
    "Is the quarter circle more or less accurate than the full circle? Motivate your answer (go answer go!)"
   ]
  },
  {
   "cell_type": "markdown",
   "id": "cc89e1c6",
   "metadata": {},
   "source": [
    "*student answer here*"
   ]
  },
  {
   "cell_type": "markdown",
   "id": "1e19daa3",
   "metadata": {},
   "source": [
    "### Exercise 11 BONUS -- computing expense\n",
    "\n",
    "by adding the command \"%%time\" in the first line of the cell for excercise 4 or 5 and in the cell for excercise 9, evaluate how much wall time elapsed to compute both. Which is less computationally expensive? "
   ]
  },
  {
   "cell_type": "markdown",
   "id": "2d474d6a",
   "metadata": {},
   "source": [
    "*student answer here*"
   ]
  },
  {
   "cell_type": "markdown",
   "id": "74f921af",
   "metadata": {},
   "source": [
    "<hr>"
   ]
  }
 ],
 "metadata": {
  "kernelspec": {
   "display_name": "Python 3 (ipykernel)",
   "language": "python",
   "name": "python3"
  },
  "language_info": {
   "codemirror_mode": {
    "name": "ipython",
    "version": 3
   },
   "file_extension": ".py",
   "mimetype": "text/x-python",
   "name": "python",
   "nbconvert_exporter": "python",
   "pygments_lexer": "ipython3",
   "version": "3.7.13"
  }
 },
 "nbformat": 4,
 "nbformat_minor": 5
}
