{
 "cells": [
  {
   "cell_type": "markdown",
   "id": "810ff397",
   "metadata": {},
   "source": [
    "# Assignment 9 - Monte Carlo Modeling of low-density gas near a moving wall\n",
    "\n",
    "## Authors\n",
    "P. Mocz\n",
    "and \n",
    "B.W. Holwerda \n",
    "\n",
    "## Learning Goals\n",
    "* how to model gas particles.\n",
    "* effective use of a Monte-Carlo approach\n",
    "* optimizing and contrasting MC models. \n",
    "\n",
    "## Keywords\n",
    "\n",
    "Monte-Carlo modeling, gas models, friction, animation, time evolution\n",
    "\n",
    "## Companion Content\n",
    "\n",
    "Based on this article:\n",
    "https://medium.com/swlh/create-your-own-direct-simulation-monte-carlo-with-python-3b9f26fa05ab\n",
    "\n",
    "\n",
    "## Summary\n",
    "\n",
    "A dilute gas is an unique problem environment where the system may need to be modeled as individual particles (or ones that stand in for a set of particles) and use numpy random and what we know of the behavior to model the final system's behavior. In this case a layer of gas close to a moving surface.\n",
    "\n",
    "<hr>"
   ]
  },
  {
   "cell_type": "markdown",
   "id": "8247ded6",
   "metadata": {},
   "source": [
    "\n",
    "## Student Name and ID:\n",
    "\n",
    "\n",
    "\n",
    "## Date:\n",
    "\n",
    "<hr>"
   ]
  },
  {
   "cell_type": "code",
   "execution_count": 1,
   "id": "1e1b1d48",
   "metadata": {},
   "outputs": [],
   "source": [
    "## some important modules/functions we will need\n",
    "import numpy as np\n",
    "import scipy\n",
    "from scipy import special\n",
    "\n",
    "import warnings; warnings.simplefilter('ignore')\n",
    "import matplotlib.pyplot as plt\n",
    "from matplotlib import colors\n",
    "from matplotlib.ticker import PercentFormatter\n",
    "import random\n",
    "\n",
    "import glob\n",
    "import os\n",
    "\n",
    "from dsmc import DSMC\n",
    "%matplotlib inline\n",
    "\n",
    "# %config InlineBackend.figure_format = \"retina\"\n",
    "\n",
    "from matplotlib import rcParams\n",
    "rcParams[\"savefig.dpi\"] = 100\n",
    "rcParams[\"figure.dpi\"] = 100\n",
    "rcParams[\"font.size\"] = 20\n"
   ]
  },
  {
   "cell_type": "markdown",
   "id": "70ab9c39",
   "metadata": {},
   "source": [
    "we learn how to simulate dilute gas with the Direct Simulation Monte Carlo (DSMC) method. This approach is useful when gas is weakly collisional. We will look at the Rayleigh Problem: the response of rarified gas between two plates after one suddenly starts moving.\n",
    "\n"
   ]
  },
  {
   "attachments": {
    "1*vXaQOH-E7zxLpzyJ9zPr6g.webp": {
     "image/webp": "[encoded data removed]"
    }
   },
   "cell_type": "markdown",
   "id": "7514ef2e",
   "metadata": {},
   "source": [
    "## Rarefied Gas Modeling\n",
    "\n",
    "Rarefied flows cannot be accurately simulated using fluid (Navier-Stokes) equations. By rarified or ‘dilute’, we mean that the mean free path $\\lambda$ of a molecule is of the same order (or greater) than a representative physical length scale $L$ in the problem. The dimensionless Knudsen number, $Kn$, is a useful measure to identify when we are in this regime:\n",
    "\n",
    "$$ Kn = \\lambda/L $$\n",
    "\n",
    "A Knudsen number of $Kn>0.1$ means that the continuum fluid description breaks down. To simulate such a fluid, we will use a probabilistic Monte Carlo approach to solve the Boltzmann equation for finite Knudsen number.\n",
    "\n",
    "The mean free path $\\lambda$ of a fluid is defined as:\n",
    "\n",
    "$$ \\lambda {1 \\over \\sqrt{2} \\pi \\sigma^2 n } $$\n",
    "\n",
    "where $n$ is the number density of the molecule and $\\sigma$ is the molecule's effective size.\n",
    "\n",
    "The Setup\n",
    "\n",
    "The setup is as follows. Consider dilute gas in thermal equilibrium with temperature T₀ between two infinite plates:\n",
    "\n",
    "![1*vXaQOH-E7zxLpzyJ9zPr6g.webp](attachment:1*vXaQOH-E7zxLpzyJ9zPr6g.webp)\n",
    "\n",
    "The top plate is a specular (reflective) wall which will simply bounce back particles that hit it. The bottom plate is a thermal wall with temperature $Tw=T_0$ that suddenly moves in the y-direction with speed $u_w$ at time $t=0$. The plates are separated by a distance $Lz$ along the z-direcion, which the DSMC method will break up into ‘collision’ cells of height $dz$. The question of the Rayleigh problem is to understand how the dilute gas will react to the sudden movement of the plate.\n",
    "\n",
    "### Direct Simulation Monte Carlo\n",
    "\n",
    "The DSMC method will treat the dilute gas as a collection of simulation particles, each with:\n",
    "* position $r_i = [x_i, y_i, z_i]$ \n",
    "* velocity $v_i = [vx_i, vy_i, vz_i]$ \n",
    "\n",
    "It is important to note that each simulation particle may represent $N_e$ physical particles, where $N_e$ need not be 1.\n",
    "\n",
    "In a loop over time steps, the particles will undergo three steps\n",
    "* Drift\n",
    "* Wall collisions\n",
    "* Particle-Particle Collisions (via probabilistic Monte Carlo)\n",
    "\n",
    "We describe these steps in detail below, but first we define some simulation parameters.\n"
   ]
  },
  {
   "cell_type": "code",
   "execution_count": 5,
   "id": "5cd06978",
   "metadata": {},
   "outputs": [],
   "source": [
    "# Simulation parameters\n",
    "uw              = 0.2       # lower wall velocity\n",
    "Tw              = 1         # wall temperature\n",
    "n0              = 0.001     # density\n",
    "N               = 50000     # number of sampling particles\n",
    "Ncell           = 50        # number of 'collision' cells\n",
    "\n",
    "\n",
    "lambda_mfp      = 1/(np.sqrt(2)*np.pi*n0)    # mean free path ~= 225\n",
    "Lz              = 10*lambda_mfp              # height of box  ~= 2250.8\n",
    "v_mean = (2/np.sqrt(np.pi)) * np.sqrt(2*Tw)  # mean speed of thermal particles\n",
    "tau             = lambda_mfp / v_mean        # mean-free time\n",
    "dz              = Lz/Ncell                   # cell height\n",
    "vol             = Lz*dz*dz/Ncell             # cell volume\n",
    "Ne              = n0*Lz*dz*dz/N   # number of real particles each sampling particle represents\n"
   ]
  },
  {
   "cell_type": "markdown",
   "id": "ad245aed",
   "metadata": {},
   "source": [
    "### Initial Conditions\n",
    "\n",
    "In the initial conditions, the particles are distributed uniform randomly within the spatial domain. The particle velocities are drawn from a Maxwellian (Gaussian) distribution with variance T₀=1. The simulation code will use units of m=σ=k T₀=1, where m is the particle mass and k is Boltzmann’s constant."
   ]
  },
  {
   "cell_type": "markdown",
   "id": "897ea967",
   "metadata": {},
   "source": [
    "### Exercise 1\n",
    "\n",
    "How would one set the initial conditions for x,y,x and velocities for the particles? express in python code below. Use the simulation parameters above and the numpy random library."
   ]
  },
  {
   "cell_type": "code",
   "execution_count": 7,
   "id": "ff18adae",
   "metadata": {},
   "outputs": [],
   "source": [
    "# student work here\n"
   ]
  },
  {
   "cell_type": "markdown",
   "id": "dae024ec",
   "metadata": {},
   "source": [
    "### Drift\n",
    "\n",
    "The drift step is very simple. Particles stream with their velocities, and in each timestep $\\Delta t$, their positions are updated as follows\n",
    "\n",
    "$$ r_{(i+1)} = r_i + \\Delta t \\times v_i $$\n",
    "\n",
    "Or, in terms of code:"
   ]
  },
  {
   "cell_type": "code",
   "execution_count": 9,
   "id": "1a99eb02",
   "metadata": {},
   "outputs": [],
   "source": [
    "dt = 1\n",
    "# drift\n",
    "x += dt*vx\n",
    "y += dt*vy\n",
    "z += dt*vz"
   ]
  },
  {
   "cell_type": "markdown",
   "id": "45146a23",
   "metadata": {},
   "source": [
    "## Wall Collisions\n",
    "\n",
    "After drifting, the particles may hit the top or the bottom wall, and these boundary conditions need to be accounted for.\n",
    "\n",
    "### Top (non-moving, reflective) wall\n",
    "\n",
    "The top specular (reflective) wall is hit if the particle position becomes $z>Lz$. In such a case, we must trace the straight-line trajectory of the top wall and bounce it back. The particle position is reflected across top wall, and the normal component of the velocity ($vz$) reverse sign. This can be accomplished with a few lines of code:"
   ]
  },
  {
   "cell_type": "code",
   "execution_count": 10,
   "id": "aa2daeb6",
   "metadata": {},
   "outputs": [],
   "source": [
    "# collide specular wall (z=Lz)\n",
    "# trace the straight-line trajectory to the top wall, bounce it back\n",
    "hit_top = z > Lz\n",
    "dt_ac = (z[hit_top]-Lz) / vz[hit_top] # time after collision\n",
    "vz[hit_top] = -vz[hit_top]  # reverse normal component of velocity\n",
    "z[hit_top]  = Lz + dt_ac * vz[hit_top]"
   ]
  },
  {
   "cell_type": "markdown",
   "id": "086bface",
   "metadata": {},
   "source": [
    "### Bottom (moving) wall\n",
    "\n",
    "Next, the bottom thermal wall needs to be accounted for. A particle hits the wall if its position becomes z<0. In this case, the particle’s velocity needs to be reset to a biased Maxwellian upon impact:\n",
    "\n",
    "where $r_G$ and $r’_G$ are numbers drawn from a random Gaussian, and $r$ is drawn randomly from the uniform interval (0,1).\n",
    "Following the point of impact, the particle streams off with its new velocity, so its position needs to be corrected to take that into account.\n",
    "Applying this boundary condition is accomplished with the following lines of code:"
   ]
  },
  {
   "cell_type": "code",
   "execution_count": 11,
   "id": "42c1b90f",
   "metadata": {},
   "outputs": [],
   "source": [
    "# collide thermal wall (z=0)\n",
    "# reset velocity to a biased maxwellian upon impact\n",
    "hit_bot = z < 0\n",
    "dt_ac = z[hit_bot] / vz[hit_bot]\n",
    "x[hit_bot] -= dt_ac * vx[hit_bot]\n",
    "y[hit_bot] -= dt_ac * vy[hit_bot]\n",
    "Nbot = np.sum( hit_bot )\n",
    "\n",
    "vx[hit_bot] = np.sqrt(Tw) * np.random.normal(0, 1, Nbot) \n",
    "vy[hit_bot] = np.sqrt(Tw) * np.random.normal(0, 1, Nbot) + uw\n",
    "vz[hit_bot] = np.sqrt( -2 * Tw * np.log(np.random.random(Nbot)) )\n",
    "\n",
    "x[hit_bot] += dt_ac * vx[hit_bot]\n",
    "y[hit_bot] += dt_ac * vy[hit_bot]\n",
    "z[hit_bot]  = dt_ac * vz[hit_bot]"
   ]
  },
  {
   "cell_type": "markdown",
   "id": "5e91cfdf",
   "metadata": {},
   "source": [
    "## Probabilistic Particle-Particle Collisions\n",
    "\n",
    "Finally comes the heart of the DSMC method. In each ‘collision’ cell, a set of representative collisions is processed at each time step. It is important that the cell size dz is smaller than the mean free path λ and that there are enough particles so each cell has at least ~1000. A number of particle pairs i and j within the cell are selected at random and collide with probability that is proportional to their relative velocity:\n",
    "\n",
    "$$ p_{collide}(i,j) \\propto |v_i - v_j|$$\n",
    "\n",
    "\n",
    "The collisions are processed using an acceptance-rejection scheme. For each cell, we randomly select M_cand candidate pairs for collision, calculated as:\n",
    "\n",
    "$$ M_{cand} = { N_c^2 \\pi \\sigma^2 v_{r,max} N_e \\Delta t \\over 2 V_c}\n",
    "\n",
    "where $N_c$ is the number of particles in the cell, $V_c$ is the volume of the cell, and $v_rmax$ is an upper limit estimate for the maximum relative velocity between particles. It is expensive to calculate v_rmax exactly because it requires a pairwise sum over particles, but the method will be accurate as long as an overestimate is given. However, you do not want to overestimate v_rmax by too much because that will also slow the code down as it means more candidate particle pairs have to be processed.\n",
    "\n",
    "For each candidate particle pair, draw a random number r in (0,1) and ‘accept’ the pair for collision if:\n",
    "\n",
    "$$ { |v_i - v_j| \\over v_{r,max}} > r $$\n",
    "\n",
    "The expected number of collisions $M_{coll}$ out of the $M_{cand}$ candidate pairs is:\n",
    "\n",
    "$$ { M_{coll} \\over M_{cand}} = { <v_r> \\over v_{r,max} }$$\n",
    "\n",
    "where $<v_r>$ is the average relative velocity of the particles in the cell.\n",
    "\n",
    "The outcome of the collision is a **hard-body collision**, in which the particles conserve momentum and energy and scatter off in a random direction. In such a collision, the particle velocities of particles $i$ and $j$ are changed to:\n",
    "\n",
    "$$ v'_i = v_{cm} + 1/2 v'_r $$\n",
    "\n",
    "$$ v'_j = v_{cm} - 1/2 v'_r $$\n",
    "\n",
    "where\n",
    "\n",
    "$$ v_{cm} = {1 \\over 2} (v_i + v_j) $$\n",
    "\n",
    "is the center-of-mass velocity of the two particles and\n",
    "\n",
    "$$ v'_r = v_r (sin\\theta cos\\phi, sin\\theta sin\\phi, cos\\theta) $$\n",
    "\n",
    "is the randomly re-oriented relative velocity between the two particles. The angles are chosen randomly according to:\n",
    "\n",
    "$$ cos \\theta = 2r-1 $$\n",
    "\n",
    "$$ sin \\theta = \\sqrt{1 - cos^2 \\theta} $$\n",
    "\n",
    "$$ \\phi = 2\\pi r' $$\n",
    "\n",
    "where again r and r’ are random numbers drawn from the interval (0,1). The above sampling picks out a random direction on the surface of a sphere in a uniform manner.\n",
    "The following part of the code handles Monte Carlo particle collisions:\n"
   ]
  },
  {
   "cell_type": "code",
   "execution_count": 12,
   "id": "c88ac938",
   "metadata": {},
   "outputs": [],
   "source": [
    "# collide particles using acceptance--rejection scheme\n",
    "v_rel_max = 6 # (over-)estimate upper limit to relative vel.\n",
    "# loop over cells\n",
    "for j in range(Ncell):\n",
    "    \n",
    "    in_cell = (j*dz < z) & (z < (j+1)*dz)\n",
    "    Nc = np.sum( in_cell )\n",
    "    x_c = x[in_cell]\n",
    "    y_c = y[in_cell]\n",
    "    z_c = z[in_cell]\n",
    "    vx_c = vx[in_cell]\n",
    "    vy_c = vy[in_cell]\n",
    "    vz_c = vz[in_cell]\n",
    "    \n",
    "    M_cand = np.ceil(Nc**2 * np.pi * v_rel_max * Ne * dt/(2*vol)).astype(int)\n",
    "        \n",
    "    # propose collision between i and j\n",
    "    for k in range(M_cand):\n",
    "        \n",
    "        r_fac = np.random.random()\n",
    "        i_prop = np.random.randint(Nc)\n",
    "        j_prop = np.random.randint(Nc)\n",
    "        \n",
    "        v_rel = np.sqrt((vx_c[i_prop]-vx_c[j_prop])**2 + (vy_c[i_prop]-vy_c[j_prop])**2 + (vz_c[i_prop]-vz_c[j_prop])**2 )\n",
    "        \n",
    "        # accept collision with appropriate probability\n",
    "        if v_rel > r_fac*v_rel_max:\n",
    "            \n",
    "            # process collision -- hard sphere\n",
    "            vx_cm = 0.5 * (vx_c[i_prop] + vx_c[j_prop])\n",
    "            vy_cm = 0.5 * (vy_c[i_prop] + vy_c[j_prop])\n",
    "            vz_cm = 0.5 * (vz_c[i_prop] + vz_c[j_prop])\n",
    "            cos_theta = 2 * np.random.random() - 1\n",
    "            sin_theta = np.sqrt( 1 - cos_theta**2 )\n",
    "            phi       = 2 * np.pi * np.random.random()\n",
    "            vx_p = v_rel * sin_theta * np.cos(phi)\n",
    "            vy_p = v_rel * sin_theta * np.sin(phi)\n",
    "            vz_p = v_rel * cos_theta\n",
    "            vx_c[i_prop] = vx_cm + 0.5*vx_p\n",
    "            vy_c[i_prop] = vy_cm + 0.5*vy_p\n",
    "            vz_c[i_prop] = vz_cm + 0.5*vz_p\n",
    "            vx_c[j_prop] = vx_cm - 0.5*vx_p\n",
    "            vy_c[j_prop] = vy_cm - 0.5*vy_p\n",
    "            vz_c[j_prop] = vz_cm - 0.5*vz_p\n",
    "            \n",
    "    x[in_cell]  = x_c \n",
    "    y[in_cell]  = y_c \n",
    "    z[in_cell]  = z_c\n",
    "    vx[in_cell] = vx_c \n",
    "    vy[in_cell] = vy_c \n",
    "    vz[in_cell] = vz_c"
   ]
  },
  {
   "cell_type": "markdown",
   "id": "e22632e6",
   "metadata": {},
   "source": [
    "### Putting it together\n",
    "\n",
    "rather than calling different functions for each of the above, we will put everything together in a single program. You can import that from the dsmc.py file like so:"
   ]
  },
  {
   "cell_type": "code",
   "execution_count": null,
   "id": "0a69bf24",
   "metadata": {},
   "outputs": [],
   "source": [
    "from dsmc import DSMC"
   ]
  },
  {
   "cell_type": "markdown",
   "id": "47c14e06",
   "metadata": {},
   "source": [
    "### input and output\n",
    "\n",
    "the function DSMC uses a series of input parameters, each with preset defaults:\n",
    "\n",
    "         uw              = 0.2       ,# lower wall velocity\n",
    "         Tw              = 1         ,# wall temperature\n",
    "         n0              = 0.001     ,# density\n",
    "         N               = 50000     ,# number of sampling particles\n",
    "         Nsim            = 3         ,# number of simulations to run\n",
    "         Ncell           = 50        ,# number of cells\n",
    "         Nmft            = 20        ,# number of mean-free times to run simulation\n",
    "         plotRealTime    = False     ,# True      # animate\n",
    "         verbose         = True      ,# print comments?\n",
    "         imfile         = 'dsmc.png'  # file to save final plot to\n",
    "         \n",
    "So rather than changing some of the values from default, we can simply re-run an iteration of this MC with different inputs, and, if we so choose, save it in a differently named image file.\n",
    "\n",
    "The function returns an array of the number of collisions over time *averaged* over the number of simulations.\n",
    "\n",
    "The following assignments are to explore the effects of input on the MC outcome. "
   ]
  },
  {
   "cell_type": "markdown",
   "id": "ed0db217",
   "metadata": {},
   "source": [
    "### Exercise 2 \n",
    "\n",
    "Run the simulation in default mode. How long does it take to execute? How could you speed things up? "
   ]
  },
  {
   "cell_type": "code",
   "execution_count": 1,
   "id": "18d8c04f",
   "metadata": {},
   "outputs": [],
   "source": [
    "# student work here\n"
   ]
  },
  {
   "cell_type": "markdown",
   "id": "9b8a941c",
   "metadata": {},
   "source": [
    "### Exercise 3 - effect of wall speed on motion away from the wall\n",
    "\n",
    "what happens if one increases the wall speed? Run single simulation with uw=0.2, 1 and 10. Show the resulting figures."
   ]
  },
  {
   "cell_type": "code",
   "execution_count": 2,
   "id": "54f79540",
   "metadata": {},
   "outputs": [],
   "source": [
    "#student work here\n"
   ]
  },
  {
   "cell_type": "markdown",
   "id": "2e035d37",
   "metadata": {},
   "source": [
    "*student written answer here*"
   ]
  },
  {
   "cell_type": "markdown",
   "id": "0f38f8ee",
   "metadata": {},
   "source": [
    "### Exercise 4 - effect of wall speed on collisions \n",
    "\n",
    "plot the average number of collisions as a function of time for the three scenarios above."
   ]
  },
  {
   "cell_type": "code",
   "execution_count": 3,
   "id": "b99aefb9",
   "metadata": {},
   "outputs": [],
   "source": [
    "# student work here\n"
   ]
  },
  {
   "cell_type": "markdown",
   "id": "c2f81b61",
   "metadata": {},
   "source": [
    "### Exercise 5 - effect of wall speed on collisions\n",
    "\n",
    "what happens to the collisions if the wall speed is very high (higher than unity)? "
   ]
  },
  {
   "cell_type": "markdown",
   "id": "ee750e6b",
   "metadata": {},
   "source": [
    "*student answer here*"
   ]
  },
  {
   "cell_type": "markdown",
   "id": "5b6dcbbd",
   "metadata": {},
   "source": [
    "### Exercise 6 -  Making an animation\n",
    "\n",
    "Below is the code of making an animation of all the snapshots saved if you switch on plotRealTime=True.\n",
    "\n",
    "Run a single simulation with uw=0.2 but with plot realtime on. "
   ]
  },
  {
   "cell_type": "code",
   "execution_count": 4,
   "id": "7c5a78c3",
   "metadata": {},
   "outputs": [],
   "source": [
    "# student work here\n",
    "\n"
   ]
  },
  {
   "cell_type": "code",
   "execution_count": 3,
   "id": "c7053238",
   "metadata": {},
   "outputs": [
    {
     "name": "stdout",
     "output_type": "stream",
     "text": [
      "image_arrays shape: (500,)\n"
     ]
    },
    {
     "data": {
      "image/png": "[encoded data removed]",
      "text/plain": [
       "<Figure size 640x480 with 1 Axes>"
      ]
     },
     "metadata": {},
     "output_type": "display_data"
    }
   ],
   "source": [
    "import glob\n",
    "\n",
    "#read all the .png files in directory called `steps`\n",
    "files = glob.glob(r\"anim/*.png\")\n",
    "\n",
    "from PIL import Image\n",
    "\n",
    "image_array = []\n",
    "\n",
    "for my_file in files:\n",
    "    \n",
    "    image = Image.open(my_file)\n",
    "    image_array.append(image)\n",
    "\n",
    "print('image_arrays shape:', np.array(image_array).shape)\n",
    "\n",
    "import matplotlib.pyplot as plt\n",
    "import matplotlib.animation as animation\n",
    "\n",
    "# Create the figure and axes objects\n",
    "fig, ax = plt.subplots()\n",
    "ax.set_axis_off()\n",
    "\n",
    "# Set the initial image\n",
    "im = ax.imshow(image_array[0], animated=True)\n",
    "\n",
    "def update(i):\n",
    "    im.set_array(image_array[i])\n",
    "    return im, \n",
    "\n",
    "# Create the animation object\n",
    "animation_fig = animation.FuncAnimation(fig, update, frames=len(image_array), interval=200, blit=True,repeat_delay=10,)\n",
    "\n",
    "# Show the animation\n",
    "plt.show()\n",
    "\n",
    "animation_fig.save(\"dsmc_animated.gif\")"
   ]
  },
  {
   "cell_type": "markdown",
   "id": "8317dfff",
   "metadata": {},
   "source": [
    "### Exercise 7 - what happens close to the moving wall?\n",
    "\n",
    "Open the animated gif in the browser. This shows you a close-up of the layer close to the wall and the speed of the particles. The line is the average speed. What do you notice?\n"
   ]
  },
  {
   "cell_type": "markdown",
   "id": "8924d40e",
   "metadata": {},
   "source": [
    "*student answer here*"
   ]
  },
  {
   "cell_type": "markdown",
   "id": "a94a589f",
   "metadata": {},
   "source": [
    "### Exercise 8 - Applications\n",
    "\n",
    "What is the phenomenon of a moving plate and its interaction with gas particles called? Can you think of real-world examples where this would be appliccable? "
   ]
  },
  {
   "cell_type": "markdown",
   "id": "e7be3b23",
   "metadata": {},
   "source": [
    "*student answer here*"
   ]
  },
  {
   "cell_type": "markdown",
   "id": "20038849",
   "metadata": {},
   "source": [
    "<hr>"
   ]
  },
  {
   "cell_type": "code",
   "execution_count": null,
   "id": "43c01d91",
   "metadata": {},
   "outputs": [],
   "source": []
  }
 ],
 "metadata": {
  "kernelspec": {
   "display_name": "Python 3 (ipykernel)",
   "language": "python",
   "name": "python3"
  },
  "language_info": {
   "codemirror_mode": {
    "name": "ipython",
    "version": 3
   },
   "file_extension": ".py",
   "mimetype": "text/x-python",
   "name": "python",
   "nbconvert_exporter": "python",
   "pygments_lexer": "ipython3",
   "version": "3.7.13"
  }
 },
 "nbformat": 4,
 "nbformat_minor": 5
}
